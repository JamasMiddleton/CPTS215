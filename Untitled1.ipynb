{
 "cells": [
  {
   "cell_type": "markdown",
   "metadata": {},
   "source": [
    "\"# [CptS 215 Data Analytics Systems and Algorithms](https://piazza.com/wsu/fall2017/cpts215/home)\\n\",\n",
    "    \"[Washington State University](https://wsu.edu)\\n\",\n",
    "    \"\\n\",\n",
    "    \"[Gina Sprint](http://eecs.wsu.edu/~gsprint/)\\n\",\n",
    "    \"## MA3 Algorithm Analysis (50 pts)\\n\",\n",
    "    \"<mark>Due:</mark>\\n\",\n",
    "    \"\\n\",\n",
    "    \"### Learner Objectives\\n\",\n",
    "    \"At the conclusion of this micro assignment, participants should be able to:\\n\",\n",
    "    \"* Derive growth rate functions\\n\",\n",
    "    \"* Analyze algorithms for efficiency in terms of time and space complexity\\n\",\n",
    "    \"\\n\",\n",
    "    \"### Prerequisites\\n\",\n",
    "    \"Before starting this micro assignment, participants should be able to:\\n\",\n",
    "    \"* Implement/analyze algorithms\\n\",\n",
    "    \"* Write Markdown and code cells in Jupyter Notebook\\n\",\n",
    "    \"* Type set equations using Latex\\n\",\n",
    "    \"\\n\",\n",
    "    \"### Acknowledgments\\n\",\n",
    "    \"Content used in this assignment is based upon information in the following sources:\\n\",\n",
    "    \"* A WSU CptS 223 assignment by [Aaron Crandall](http://eecs.wsu.edu/~acrandal/).\""
   ]
  },
  {
   "cell_type": "markdown",
   "metadata": {},
   "source": []
  },
  {
   "cell_type": "code",
   "execution_count": 2,
   "metadata": {},
   "outputs": [
    {
     "ename": "SyntaxError",
     "evalue": "invalid syntax (<ipython-input-2-b08ee5beb344>, line 1)",
     "output_type": "error",
     "traceback": [
      "\u001b[1;36m  File \u001b[1;32m\"<ipython-input-2-b08ee5beb344>\"\u001b[1;36m, line \u001b[1;32m1\u001b[0m\n\u001b[1;33m    $ jupyter nbconvert Untitled1.ipynb\u001b[0m\n\u001b[1;37m    ^\u001b[0m\n\u001b[1;31mSyntaxError\u001b[0m\u001b[1;31m:\u001b[0m invalid syntax\n"
     ]
    }
   ],
   "source": []
  },
  {
   "cell_type": "code",
   "execution_count": null,
   "metadata": {},
   "outputs": [],
   "source": []
  }
 ],
 "metadata": {
  "kernelspec": {
   "display_name": "Python 3",
   "language": "python",
   "name": "python3"
  },
  "language_info": {
   "codemirror_mode": {
    "name": "ipython",
    "version": 3
   },
   "file_extension": ".py",
   "mimetype": "text/x-python",
   "name": "python",
   "nbconvert_exporter": "python",
   "pygments_lexer": "ipython3",
   "version": "3.7.1"
  },
  "widgets": {
   "application/vnd.jupyter.widget-state+json": {
    "state": {},
    "version_major": 2,
    "version_minor": 0
   }
  }
 },
 "nbformat": 4,
 "nbformat_minor": 2
}
