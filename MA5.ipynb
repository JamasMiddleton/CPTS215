{
 "cells": [
  {
   "cell_type": "markdown",
   "metadata": {},
   "source": [
    "# [CptS 215 Data Analytics Systems and Algorithms](https://piazza.com/wsu/fall2017/cpts215/home)\n",
    "[Washington State University](https://wsu.edu)\n",
    "\n",
    "[Gina Sprint](http://eecs.wsu.edu/~gsprint/)\n",
    "## MA5 Tree Practice (50 pts)\n",
    "<mark>Due:</mark>\n",
    "\n",
    "### Learner Objectives\n",
    "At the conclusion of this micro assignment, participants should be able to:\n",
    "* Implement/analyze trees\n",
    "    * Binary trees\n",
    "    * Binary search trees\n",
    "    * AVL trees\n",
    "\n",
    "### Prerequisites\n",
    "Before starting this micro assignment, participants should be able to:\n",
    "* Write object oriented Python code\n",
    "* Write Markdown and code cells in Jupyter Notebook\n",
    "* Perform algorithm analysis\n",
    "\n",
    "### Acknowledgments\n",
    "Content used in this assignment is based upon information in the following sources:\n",
    "* [Data Structures: Abstraction and Design Using Java](http://www.wiley.com/WileyCDA/WileyTitle/productCd-EHEP001607.html) by Koffman and Wolfgang"
   ]
  },
  {
   "cell_type": "markdown",
   "metadata": {},
   "source": [
    "## Overview and Requirements\n",
    "For this micro assignment, you are going to download this Jupyter Notebook and answer the following questions. Your answer for a problem should be in a cell *immediately* after the problem cell. *Do not modify the problem cell.*\n",
    "\n",
    "We are going to solve several problems related to trees and their efficiency. This micro assignment includes conceptional questions and programming.\n",
    "\n",
    "### Conceptual Questions\n",
    "Solve the following problems and *justify* your answers:\n",
    "1. For the following binary tree:\n",
    "<img src=\"https://raw.githubusercontent.com/gsprint23/cpts215/master/microassignments/figures/ma5_tree.png\" width=\"400\"/>\n",
    "\n",
    "\n",
    "    A. (2 pts) Is the tree full? \n",
    "    B. (2 pts) Is the tree complete?\n",
    "    C. (2 pts) What is the tree's height?"
   ]
  },
  {
   "cell_type": "markdown",
   "metadata": {},
   "source": [
    "        A. No, not all nodes have two leaves. (not full bottom row)\n",
    "        B. Yes, second to lowest level of nodes is full, bottom row has the leaves on the far left end.\n",
    "        C. 4, (*,A,1,X)"
   ]
  },
  {
   "cell_type": "markdown",
   "metadata": {},
   "source": [
    "    1. List the nodes in the tree in the order they would be visited during a:\n",
    "        1. (4 pts) Pre-order traversal\n",
    "        2. (4 pts) Level-order traversal\n",
    "        3. (4 pts) Post-order traversal\n",
    "        4. (4 pts) In-order traversal"
   ]
  },
  {
   "cell_type": "markdown",
   "metadata": {},
   "source": [
    "             1. (*,A,1,X,Y,2,B,3,4)\n",
    "             \n",
    "             2. (*,A,B,1,2,3,4,X,Y)\n",
    "             \n",
    "             3. (X,Y,1,2,A,3,4,B,*)\n",
    "             \n",
    "             4. (X,1,Y,A,2,*,3,B,4)"
   ]
  },
  {
   "cell_type": "markdown",
   "metadata": {},
   "source": [
    "    1. (2 pts) What is the time complexity to search a full BST?"
   ]
  },
  {
   "cell_type": "markdown",
   "metadata": {},
   "source": [
    "     1. Worst case O(n), full balanced tree O(Log_2(n))"
   ]
  },
  {
   "cell_type": "markdown",
   "metadata": {},
   "source": [
    "1. The following questions refer to the same BST. The operations are cumulative:\n",
    "    1. (2 pts) Show the BST that would result from inserting the items 35, 20, 30, 50, 45, 60, 18, 25 in this sequence.\n",
    "    1. (2 pts) Show the BST that would result after removing item 35 (promote in order successor).\n",
    "    1. (2 pts) Show the BST that would result after removing item 18 (promote in order successor).\n",
    "    1. (2 pts) How would the trees in the previous problems look differently if we promote in order predecessors instead of successors?"
   ]
  },
  {
   "cell_type": "markdown",
   "metadata": {},
   "source": [
    "\n",
    "<img src=\"https://user-images.githubusercontent.com/15348887/55380025-c87d5380-54d3-11e9-9e02-2f8f34d7ca52.png\"/>\n",
    "    \n",
    "D. The left half of the BST tree would have less nodes.\n",
    "    "
   ]
  },
  {
   "cell_type": "markdown",
   "metadata": {},
   "source": [
    "\n",
    "\n",
    "\n",
    "\n",
    "\n",
    "\n",
    "1. (2 pts) Given the following tree, perform the appropriate rotations to bring it back into balance:\n",
    "<img src=\"http://interactivepython.org/runestone/static/pythonds/_images/rotexer1.png\" width=\"150\"/>\n",
    "(image from [http://interactivepython.org/runestone/static/pythonds/_images/rotexer1.png](http://interactivepython.org/runestone/static/pythonds/_images/rotexer1.png))"
   ]
  },
  {
   "cell_type": "markdown",
   "metadata": {},
   "source": [
    "<img src=\"https://user-images.githubusercontent.com/15348887/55381193-4e4ece00-54d7-11e9-81ca-23c8a86b0e38.png\"/>"
   ]
  },
  {
   "cell_type": "markdown",
   "metadata": {},
   "source": [
    "\n",
    "### Implementation Question\n",
    "Write a program that implements and tests an AVL tree `remove(item)` method. This method accepts an item to remove. If the item is in the tree, the method removes the item, re-balances the tree, and returns `True`. If the item is not in the tree, `False` is returned."
   ]
  },
  {
   "cell_type": "markdown",
   "metadata": {},
   "source": [
    "## Bonus (6 pts)\n",
    "Read about [Huffman coding](http://www.geeksforgeeks.org/greedy-algorithms-set-3-huffman-coding/).\n",
    "1. (1 pt) In a Huffman tree, the item with the highest frequency of occurrence will have a code with what trait?\n",
    "1. (5 pts) In the table below, fill in the code for each symbol shown in the following Huffman tree:\n",
    "<img src=\"https://raw.githubusercontent.com/gsprint23/cpts215/master/microassignments/figures/huffman_tree.png\" width=\"600\"/>\n",
    "\n"
   ]
  },
  {
   "cell_type": "markdown",
   "metadata": {},
   "source": [
    "1. It would be labeled with 0\n",
    "2. As follows\n",
    "\n",
    "|Symbol|Code|\n",
    "|-|-|\n",
    "|Space|0|\n",
    "|a|000|\n",
    "|e|101|\n",
    "|h|1000|\n",
    "|i|1101|\n",
    "|n|1110|\n",
    "|o|1111|\n",
    "|r|1001|\n",
    "|s|1100|\n",
    "|t|001|"
   ]
  },
  {
   "cell_type": "markdown",
   "metadata": {},
   "source": [
    "## Submitting Assignments\n",
    "1.\tUse the Blackboard tool https://learn.wsu.edu to submit your assignment. You will submit your code to the corresponding programming assignment under the \"Content\" tab. You must upload your solutions as `<your last name>_ma5.zip` by the due date and time.\n",
    "2.\tYour .zip file should contain your .ipynb file and a .html file representing your Notebook as a webpage (File->Download as->HTML)."
   ]
  },
  {
   "cell_type": "markdown",
   "metadata": {},
   "source": [
    "## Grading Guidelines\n",
    "This assignment is worth 50 points + 6 points bonus. Your assignment will be evaluated based on a successful compilation and adherence to the program requirements. We will grade according to the following criteria:\n",
    "* 34 pts for answering the conception questions\n",
    "* 12 pts for correct implementation of AVL tree `remove(item)`\n",
    "* 4 pts for for adherence to proper programming style and comments established for the class"
   ]
  },
  {
   "cell_type": "code",
   "execution_count": null,
   "metadata": {},
   "outputs": [],
   "source": []
  }
 ],
 "metadata": {
  "kernelspec": {
   "display_name": "Python 3",
   "language": "python",
   "name": "python3"
  },
  "language_info": {
   "codemirror_mode": {
    "name": "ipython",
    "version": 3
   },
   "file_extension": ".py",
   "mimetype": "text/x-python",
   "name": "python",
   "nbconvert_exporter": "python",
   "pygments_lexer": "ipython3",
   "version": "3.7.1"
  }
 },
 "nbformat": 4,
 "nbformat_minor": 2
}
